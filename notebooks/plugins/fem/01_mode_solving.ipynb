{
 "cells": [
  {
   "cell_type": "markdown",
   "id": "1413f21c",
   "metadata": {},
   "source": [
    "# Finite-element mode solver\n",
    "\n",
    "You can mesh any component cross-section and solve the PDEs thanks to `femwell` mode - solver.\n",
    "\n",
    "Unlike other mode solvers, this actually uses the component geometry instead of a hardcoded geometry.\n",
    "\n",
    "You can directly compute the modes of a Gdsfactory cross-section (internally, it defines a \"uz\" mesh  perpendicular to a straight component with the provided cross-section).\n",
    "\n",
    "You can also downsample layers from the LayerStack, and modify both the cross-section and LayerStack  prior to simulation to change the geometry. You can also define refractive indices on the active PDK."
   ]
  },
  {
   "cell_type": "code",
   "execution_count": 1,
   "id": "7dde51ba",
   "metadata": {
    "execution": {
     "iopub.execute_input": "2023-01-03T02:12:16.603884Z",
     "iopub.status.busy": "2023-01-03T02:12:16.603679Z",
     "iopub.status.idle": "2023-01-03T02:12:26.639889Z",
     "shell.execute_reply": "2023-01-03T02:12:26.638836Z"
    }
   },
   "outputs": [
    {
     "name": "stderr",
     "output_type": "stream",
     "text": [
      "Warning : Gmsh has aleady been initialized\n"
     ]
    }
   ],
   "source": [
    "%%capture\n",
    "from gdsfactory.simulation.fem.mode_solver import compute_cross_section_modes\n",
    "from gdsfactory.tech import LayerStack, get_layer_stack_generic\n",
    "from gdsfactory.cross_section import rib\n",
    "\n",
    "filtered_layerstack = LayerStack(\n",
    "    layers={\n",
    "        k: get_layer_stack_generic().layers[k]\n",
    "        for k in (\n",
    "            \"core\",\n",
    "            \"clad\",\n",
    "            \"slab90\",\n",
    "            \"box\",\n",
    "        )\n",
    "    }\n",
    ")\n",
    "\n",
    "filtered_layerstack.layers[\n",
    "    \"core\"\n",
    "].thickness = 0.2  # Perturb the layerstack before simulating\n",
    "\n",
    "resolutions = {}\n",
    "resolutions[\"core\"] = {\"resolution\": 0.02, \"distance\": 2}\n",
    "resolutions[\"clad\"] = {\"resolution\": 0.2, \"distance\": 1}\n",
    "resolutions[\"box\"] = {\"resolution\": 0.2, \"distance\": 1}\n",
    "resolutions[\"slab90\"] = {\"resolution\": 0.05, \"distance\": 1}\n",
    "\n",
    "lams, basis, xs = compute_cross_section_modes(\n",
    "    cross_section=rib(width=0.6),\n",
    "    layerstack=filtered_layerstack,\n",
    "    wl=1.55,\n",
    "    num_modes=4,\n",
    "    resolutions=resolutions,\n",
    ")"
   ]
  },
  {
   "cell_type": "markdown",
   "id": "ae9b2b87",
   "metadata": {},
   "source": [
    "The solver returns the effective indices (lams), FEM basis functions (basis) and eigenvectors (xs):"
   ]
  },
  {
   "cell_type": "code",
   "execution_count": 2,
   "id": "8df58b39",
   "metadata": {
    "execution": {
     "iopub.execute_input": "2023-01-03T02:12:26.643250Z",
     "iopub.status.busy": "2023-01-03T02:12:26.642678Z",
     "iopub.status.idle": "2023-01-03T02:12:26.652699Z",
     "shell.execute_reply": "2023-01-03T02:12:26.652153Z"
    }
   },
   "outputs": [
    {
     "data": {
      "text/html": [
       "<pre style=\"white-space:pre;overflow-x:auto;line-height:normal;font-family:Menlo,'DejaVu Sans Mono',consolas,'Courier New',monospace\">\n",
       "<span style=\"font-weight: bold\">(</span>\n",
       "    <span style=\"color: #800080; text-decoration-color: #800080; font-weight: bold\">array</span><span style=\"font-weight: bold\">([</span><span style=\"color: #008080; text-decoration-color: #008080; font-weight: bold\">2.51200907-3.59315701e-09j</span>, <span style=\"color: #008080; text-decoration-color: #008080; font-weight: bold\">2.48312844-8.85128771e-09j</span>,\n",
       "       <span style=\"color: #008080; text-decoration-color: #008080; font-weight: bold\">2.44855365-1.74778797e-09j</span>, <span style=\"color: #008080; text-decoration-color: #008080; font-weight: bold\">2.08113838-6.56469707e-09j</span><span style=\"font-weight: bold\">])</span>,\n",
       "    <span style=\"font-weight: bold\">&lt;</span><span style=\"color: #ff00ff; text-decoration-color: #ff00ff; font-weight: bold\">skfem</span><span style=\"color: #000000; text-decoration-color: #000000\"> </span><span style=\"color: #800080; text-decoration-color: #800080; font-weight: bold\">CellBasis</span><span style=\"color: #000000; text-decoration-color: #000000; font-weight: bold\">(</span><span style=\"color: #000000; text-decoration-color: #000000\">MeshTri1, ElementComposite</span><span style=\"color: #000000; text-decoration-color: #000000; font-weight: bold\">)</span><span style=\"color: #000000; text-decoration-color: #000000\"> object</span><span style=\"font-weight: bold\">&gt;</span>\n",
       "  Number of elements: <span style=\"color: #008080; text-decoration-color: #008080; font-weight: bold\">10486</span>\n",
       "  Number of DOFs: <span style=\"color: #008080; text-decoration-color: #008080; font-weight: bold\">21133</span>\n",
       "  Size: <span style=\"color: #008080; text-decoration-color: #008080; font-weight: bold\">48319488</span> B,\n",
       "    <span style=\"color: #800080; text-decoration-color: #800080; font-weight: bold\">array</span><span style=\"font-weight: bold\">([[</span><span style=\"color: #008080; text-decoration-color: #008080; font-weight: bold\">-1.85320187e-01-5.89343325e-02j</span>, <span style=\"color: #008080; text-decoration-color: #008080; font-weight: bold\">-3.79001282e-01-1.20527559e-01j</span>,\n",
       "        <span style=\"color: #008080; text-decoration-color: #008080; font-weight: bold\">-2.86461929e-01-9.10987902e-02j</span>, <span style=\"color: #808000; text-decoration-color: #808000\">...</span>,\n",
       "         <span style=\"color: #008080; text-decoration-color: #008080; font-weight: bold\">1.16267271e-08-3.61026620e-08j</span>,  <span style=\"color: #008080; text-decoration-color: #008080; font-weight: bold\">5.78195273e-09-1.57804943e-08j</span>,\n",
       "        <span style=\"color: #008080; text-decoration-color: #008080; font-weight: bold\">-5.14682950e-10-2.92241157e-10j</span><span style=\"font-weight: bold\">]</span>,\n",
       "       <span style=\"font-weight: bold\">[</span><span style=\"color: #008080; text-decoration-color: #008080; font-weight: bold\">-1.32254958e-01+3.24530208e-03j</span>,  <span style=\"color: #008080; text-decoration-color: #008080; font-weight: bold\">3.83459048e-01-9.40865148e-03j</span>,\n",
       "         <span style=\"color: #008080; text-decoration-color: #008080; font-weight: bold\">3.74499202e-01-9.18887969e-03j</span>, <span style=\"color: #808000; text-decoration-color: #808000\">...</span>,\n",
       "         <span style=\"color: #008080; text-decoration-color: #008080; font-weight: bold\">1.17763003e-09+4.64877029e-08j</span>, <span style=\"color: #008080; text-decoration-color: #008080; font-weight: bold\">-1.33742185e-09-2.78146889e-08j</span>,\n",
       "         <span style=\"color: #008080; text-decoration-color: #008080; font-weight: bold\">5.42244939e-10+4.03023718e-10j</span><span style=\"font-weight: bold\">]</span>,\n",
       "       <span style=\"font-weight: bold\">[</span> <span style=\"color: #008080; text-decoration-color: #008080; font-weight: bold\">5.77074636e-02+6.11724358e-02j</span>, <span style=\"color: #008080; text-decoration-color: #008080; font-weight: bold\">-2.84307496e-01-3.01378237e-01j</span>,\n",
       "        <span style=\"color: #008080; text-decoration-color: #008080; font-weight: bold\">-2.51004155e-01-2.66075260e-01j</span>, <span style=\"color: #808000; text-decoration-color: #808000\">...</span>,\n",
       "        <span style=\"color: #008080; text-decoration-color: #008080; font-weight: bold\">-5.27707910e-08+4.98777628e-08j</span>, <span style=\"color: #008080; text-decoration-color: #008080; font-weight: bold\">-3.15444439e-08+2.73964693e-08j</span>,\n",
       "        <span style=\"color: #008080; text-decoration-color: #008080; font-weight: bold\">-2.24777325e-10+6.57416978e-11j</span><span style=\"font-weight: bold\">]</span>,\n",
       "       <span style=\"font-weight: bold\">[</span> <span style=\"color: #008080; text-decoration-color: #008080; font-weight: bold\">2.45052668e-02+3.89178160e-03j</span>, <span style=\"color: #008080; text-decoration-color: #008080; font-weight: bold\">-2.82389309e-02-4.48479441e-03j</span>,\n",
       "        <span style=\"color: #008080; text-decoration-color: #008080; font-weight: bold\">-3.41712062e-02-5.42691954e-03j</span>, <span style=\"color: #808000; text-decoration-color: #808000\">...</span>,\n",
       "        <span style=\"color: #008080; text-decoration-color: #008080; font-weight: bold\">-8.83233278e-05+5.56133222e-04j</span>,  <span style=\"color: #008080; text-decoration-color: #008080; font-weight: bold\">1.28199123e-03-8.07220957e-03j</span>,\n",
       "        <span style=\"color: #008080; text-decoration-color: #008080; font-weight: bold\">-6.65497836e-08+4.19567795e-07j</span><span style=\"font-weight: bold\">]])</span>\n",
       "<span style=\"font-weight: bold\">)</span>\n",
       "</pre>\n"
      ],
      "text/plain": [
       "\n",
       "\u001b[1m(\u001b[0m\n",
       "    \u001b[1;35marray\u001b[0m\u001b[1m(\u001b[0m\u001b[1m[\u001b[0m\u001b[1;36m2.51200907-3.59315701e-09j\u001b[0m, \u001b[1;36m2.48312844-8.85128771e-09j\u001b[0m,\n",
       "       \u001b[1;36m2.44855365-1.74778797e-09j\u001b[0m, \u001b[1;36m2.08113838-6.56469707e-09j\u001b[0m\u001b[1m]\u001b[0m\u001b[1m)\u001b[0m,\n",
       "    \u001b[1m<\u001b[0m\u001b[1;95mskfem\u001b[0m\u001b[39m \u001b[0m\u001b[1;35mCellBasis\u001b[0m\u001b[1;39m(\u001b[0m\u001b[39mMeshTri1, ElementComposite\u001b[0m\u001b[1;39m)\u001b[0m\u001b[39m object\u001b[0m\u001b[1m>\u001b[0m\n",
       "  Number of elements: \u001b[1;36m10486\u001b[0m\n",
       "  Number of DOFs: \u001b[1;36m21133\u001b[0m\n",
       "  Size: \u001b[1;36m48319488\u001b[0m B,\n",
       "    \u001b[1;35marray\u001b[0m\u001b[1m(\u001b[0m\u001b[1m[\u001b[0m\u001b[1m[\u001b[0m\u001b[1;36m-1.85320187e-01-5.89343325e-02j\u001b[0m, \u001b[1;36m-3.79001282e-01-1.20527559e-01j\u001b[0m,\n",
       "        \u001b[1;36m-2.86461929e-01-9.10987902e-02j\u001b[0m, \u001b[33m...\u001b[0m,\n",
       "         \u001b[1;36m1.16267271e-08-3.61026620e-08j\u001b[0m,  \u001b[1;36m5.78195273e-09-1.57804943e-08j\u001b[0m,\n",
       "        \u001b[1;36m-5.14682950e-10-2.92241157e-10j\u001b[0m\u001b[1m]\u001b[0m,\n",
       "       \u001b[1m[\u001b[0m\u001b[1;36m-1.32254958e-01+3.24530208e-03j\u001b[0m,  \u001b[1;36m3.83459048e-01-9.40865148e-03j\u001b[0m,\n",
       "         \u001b[1;36m3.74499202e-01-9.18887969e-03j\u001b[0m, \u001b[33m...\u001b[0m,\n",
       "         \u001b[1;36m1.17763003e-09+4.64877029e-08j\u001b[0m, \u001b[1;36m-1.33742185e-09-2.78146889e-08j\u001b[0m,\n",
       "         \u001b[1;36m5.42244939e-10+4.03023718e-10j\u001b[0m\u001b[1m]\u001b[0m,\n",
       "       \u001b[1m[\u001b[0m \u001b[1;36m5.77074636e-02+6.11724358e-02j\u001b[0m, \u001b[1;36m-2.84307496e-01-3.01378237e-01j\u001b[0m,\n",
       "        \u001b[1;36m-2.51004155e-01-2.66075260e-01j\u001b[0m, \u001b[33m...\u001b[0m,\n",
       "        \u001b[1;36m-5.27707910e-08+4.98777628e-08j\u001b[0m, \u001b[1;36m-3.15444439e-08+2.73964693e-08j\u001b[0m,\n",
       "        \u001b[1;36m-2.24777325e-10+6.57416978e-11j\u001b[0m\u001b[1m]\u001b[0m,\n",
       "       \u001b[1m[\u001b[0m \u001b[1;36m2.45052668e-02+3.89178160e-03j\u001b[0m, \u001b[1;36m-2.82389309e-02-4.48479441e-03j\u001b[0m,\n",
       "        \u001b[1;36m-3.41712062e-02-5.42691954e-03j\u001b[0m, \u001b[33m...\u001b[0m,\n",
       "        \u001b[1;36m-8.83233278e-05+5.56133222e-04j\u001b[0m,  \u001b[1;36m1.28199123e-03-8.07220957e-03j\u001b[0m,\n",
       "        \u001b[1;36m-6.65497836e-08+4.19567795e-07j\u001b[0m\u001b[1m]\u001b[0m\u001b[1m]\u001b[0m\u001b[1m)\u001b[0m\n",
       "\u001b[1m)\u001b[0m\n"
      ]
     },
     "metadata": {},
     "output_type": "display_data"
    }
   ],
   "source": [
    "lams, basis, xs"
   ]
  },
  {
   "cell_type": "markdown",
   "id": "6a02fddf",
   "metadata": {},
   "source": [
    "You can use them as inputs to other [femwell mode solver functions](https://github.com/HelgeGehring/femwell/blob/main/femwell/mode_solver.py) to inspect or analyze the modes:"
   ]
  },
  {
   "cell_type": "code",
   "execution_count": 3,
   "id": "e3dca692",
   "metadata": {
    "execution": {
     "iopub.execute_input": "2023-01-03T02:12:26.655185Z",
     "iopub.status.busy": "2023-01-03T02:12:26.654987Z",
     "iopub.status.idle": "2023-01-03T02:12:28.280541Z",
     "shell.execute_reply": "2023-01-03T02:12:28.279957Z"
    }
   },
   "outputs": [],
   "source": [
    "%%capture\n",
    "from femwell import mode_solver\n",
    "import numpy as np\n",
    "\n",
    "fig = mode_solver.plot_mode(\n",
    "    basis, np.real(xs[0]), plot_vectors=False, colorbar=True, title=\"E\", direction=\"y\"\n",
    ")"
   ]
  },
  {
   "cell_type": "code",
   "execution_count": 4,
   "id": "ef4e73f1",
   "metadata": {
    "execution": {
     "iopub.execute_input": "2023-01-03T02:12:28.284032Z",
     "iopub.status.busy": "2023-01-03T02:12:28.283441Z",
     "iopub.status.idle": "2023-01-03T02:12:28.652216Z",
     "shell.execute_reply": "2023-01-03T02:12:28.651641Z"
    }
   },
   "outputs": [
    {
     "data": {
      "image/png": "[encoded data removed]"
     },
     "execution_count": 4,
     "metadata": {},
     "output_type": "execute_result"
    }
   ],
   "source": [
    "fig[0]"
   ]
  },
  {
   "cell_type": "code",
   "execution_count": 5,
   "id": "25b02681",
   "metadata": {
    "execution": {
     "iopub.execute_input": "2023-01-03T02:12:28.654876Z",
     "iopub.status.busy": "2023-01-03T02:12:28.654666Z",
     "iopub.status.idle": "2023-01-03T02:12:28.816775Z",
     "shell.execute_reply": "2023-01-03T02:12:28.816206Z"
    }
   },
   "outputs": [],
   "source": [
    "%%capture\n",
    "te_frac = mode_solver.calculate_te_frac(basis, xs[0])"
   ]
  },
  {
   "cell_type": "code",
   "execution_count": 6,
   "id": "cef8fae2",
   "metadata": {
    "execution": {
     "iopub.execute_input": "2023-01-03T02:12:28.819769Z",
     "iopub.status.busy": "2023-01-03T02:12:28.819437Z",
     "iopub.status.idle": "2023-01-03T02:12:28.826265Z",
     "shell.execute_reply": "2023-01-03T02:12:28.825771Z"
    }
   },
   "outputs": [
    {
     "data": {
      "text/html": [
       "<pre style=\"white-space:pre;overflow-x:auto;line-height:normal;font-family:Menlo,'DejaVu Sans Mono',consolas,'Courier New',monospace\"><span style=\"color: #008080; text-decoration-color: #008080; font-weight: bold\">0.9676672158113578</span>\n",
       "</pre>\n"
      ],
      "text/plain": [
       "\u001b[1;36m0.9676672158113578\u001b[0m\n"
      ]
     },
     "metadata": {},
     "output_type": "display_data"
    }
   ],
   "source": [
    "te_frac"
   ]
  },
  {
   "cell_type": "markdown",
   "id": "c0c26422",
   "metadata": {},
   "source": [
    "## Sweep waveguide width"
   ]
  },
  {
   "cell_type": "code",
   "execution_count": 7,
   "id": "dccace3c",
   "metadata": {
    "execution": {
     "iopub.execute_input": "2023-01-03T02:12:28.828679Z",
     "iopub.status.busy": "2023-01-03T02:12:28.828485Z",
     "iopub.status.idle": "2023-01-03T02:13:05.179131Z",
     "shell.execute_reply": "2023-01-03T02:13:05.178532Z"
    }
   },
   "outputs": [
    {
     "name": "stderr",
     "output_type": "stream",
     "text": [
      "Warning : Gmsh has aleady been initialized\n"
     ]
    },
    {
     "name": "stderr",
     "output_type": "stream",
     "text": [
      "Warning : Gmsh has aleady been initialized\n"
     ]
    },
    {
     "name": "stderr",
     "output_type": "stream",
     "text": [
      "Warning : Gmsh has aleady been initialized\n"
     ]
    },
    {
     "name": "stderr",
     "output_type": "stream",
     "text": [
      "Warning : Gmsh has aleady been initialized\n"
     ]
    },
    {
     "name": "stderr",
     "output_type": "stream",
     "text": [
      "Warning : Gmsh has aleady been initialized\n"
     ]
    },
    {
     "name": "stderr",
     "output_type": "stream",
     "text": [
      "Warning : Gmsh has aleady been initialized\n"
     ]
    },
    {
     "name": "stderr",
     "output_type": "stream",
     "text": [
      "Warning : Gmsh has aleady been initialized\n"
     ]
    },
    {
     "name": "stderr",
     "output_type": "stream",
     "text": [
      "Warning : Gmsh has aleady been initialized\n"
     ]
    },
    {
     "name": "stderr",
     "output_type": "stream",
     "text": [
      "Warning : Gmsh has aleady been initialized\n"
     ]
    },
    {
     "name": "stderr",
     "output_type": "stream",
     "text": [
      "Warning : Gmsh has aleady been initialized\n"
     ]
    },
    {
     "name": "stderr",
     "output_type": "stream",
     "text": [
      "Warning : Gmsh has aleady been initialized\n"
     ]
    },
    {
     "name": "stderr",
     "output_type": "stream",
     "text": [
      "Warning : Gmsh has aleady been initialized\n"
     ]
    },
    {
     "name": "stderr",
     "output_type": "stream",
     "text": [
      "Warning : Gmsh has aleady been initialized\n"
     ]
    },
    {
     "name": "stderr",
     "output_type": "stream",
     "text": [
      "Warning : Gmsh has aleady been initialized\n"
     ]
    },
    {
     "name": "stderr",
     "output_type": "stream",
     "text": [
      "Warning : Gmsh has aleady been initialized\n"
     ]
    },
    {
     "name": "stderr",
     "output_type": "stream",
     "text": [
      "Warning : Gmsh has aleady been initialized\n"
     ]
    },
    {
     "name": "stderr",
     "output_type": "stream",
     "text": [
      "Warning : Gmsh has aleady been initialized\n"
     ]
    },
    {
     "name": "stderr",
     "output_type": "stream",
     "text": [
      "Warning : Gmsh has aleady been initialized\n"
     ]
    },
    {
     "name": "stderr",
     "output_type": "stream",
     "text": [
      "Warning : Gmsh has aleady been initialized\n"
     ]
    },
    {
     "name": "stderr",
     "output_type": "stream",
     "text": [
      "Warning : Gmsh has aleady been initialized\n"
     ]
    }
   ],
   "source": [
    "%%capture\n",
    "from tqdm.auto import tqdm\n",
    "import gdsfactory as gf\n",
    "from femwell import mode_solver\n",
    "import numpy as np\n",
    "import matplotlib.pyplot as plt\n",
    "\n",
    "widths = np.linspace(0.2, 2, 20)\n",
    "num_modes = 4\n",
    "all_lams = np.zeros((widths.shape[0], num_modes))\n",
    "all_te_fracs = np.zeros((widths.shape[0], num_modes))\n",
    "\n",
    "for i, width in enumerate(tqdm(widths)):\n",
    "    lams, basis, xs = compute_cross_section_modes(\n",
    "        cross_section=gf.cross_section.strip(width=width),\n",
    "        layerstack=filtered_layerstack,\n",
    "        wl=1.55,\n",
    "        num_modes=num_modes,\n",
    "        resolutions=resolutions,\n",
    "    )\n",
    "    all_lams[i] = lams\n",
    "    all_te_fracs[i, :] = [\n",
    "        mode_solver.calculate_te_frac(basis, xs[idx]) for idx in range(num_modes)\n",
    "    ]"
   ]
  },
  {
   "cell_type": "code",
   "execution_count": 8,
   "id": "1d68931e",
   "metadata": {
    "execution": {
     "iopub.execute_input": "2023-01-03T02:13:05.182096Z",
     "iopub.status.busy": "2023-01-03T02:13:05.181603Z",
     "iopub.status.idle": "2023-01-03T02:13:05.330854Z",
     "shell.execute_reply": "2023-01-03T02:13:05.329632Z"
    }
   },
   "outputs": [
    {
     "data": {
      "image/png": "[encoded data removed]"
     },
     "metadata": {},
     "output_type": "display_data"
    }
   ],
   "source": [
    "all_lams = np.real(all_lams)\n",
    "plt.xlabel(\"waveguide Width [µm]\")\n",
    "plt.ylabel(\"Effective refractive index\")\n",
    "plt.ylim(1.444, np.max(all_lams) + 0.1 * (np.max(all_lams) - 1.444))\n",
    "\n",
    "for lams, te_fracs in zip(all_lams.T, all_te_fracs.T):\n",
    "    plt.plot(widths, lams)\n",
    "    plt.scatter(widths, lams, c=te_fracs, cmap=\"cool\")"
   ]
  },
  {
   "cell_type": "code",
   "execution_count": null,
   "id": "cecadd6e",
   "metadata": {},
   "outputs": [],
   "source": []
  }
 ],
 "metadata": {
  "kernelspec": {
   "display_name": "Python 3 (ipykernel)",
   "language": "python",
   "name": "python3"
  },
  "language_info": {
   "codemirror_mode": {
    "name": "ipython",
    "version": 3
   },
   "file_extension": ".py",
   "mimetype": "text/x-python",
   "name": "python",
   "nbconvert_exporter": "python",
   "pygments_lexer": "ipython3",
   "version": "3.9.15"
  },
  "widgets": {
   "application/vnd.jupyter.widget-state+json": {
    "state": {
     "0c802da513944b08a98f43bf050cf9ed": {
      "model_module": "@jupyter-widgets/controls",
      "model_module_version": "2.0.0",
      "model_name": "HTMLStyleModel",
      "state": {
       "_model_module": "@jupyter-widgets/controls",
       "_model_module_version": "2.0.0",
       "_model_name": "HTMLStyleModel",
       "_view_count": null,
       "_view_module": "@jupyter-widgets/base",
       "_view_module_version": "2.0.0",
       "_view_name": "StyleView",
       "background": null,
       "description_width": "",
       "font_size": null,
       "text_color": null
      }
     },
     "14afef3d15044424aed206c4b3a794c1": {
      "model_module": "@jupyter-widgets/controls",
      "model_module_version": "2.0.0",
      "model_name": "HTMLStyleModel",
      "state": {
       "_model_module": "@jupyter-widgets/controls",
       "_model_module_version": "2.0.0",
       "_model_name": "HTMLStyleModel",
       "_view_count": null,
       "_view_module": "@jupyter-widgets/base",
       "_view_module_version": "2.0.0",
       "_view_name": "StyleView",
       "background": null,
       "description_width": "",
       "font_size": null,
       "text_color": null
      }
     },
     "27f455a880a94ba2a1d94b1df6e47cf4": {
      "model_module": "@jupyter-widgets/base",
      "model_module_version": "2.0.0",
      "model_name": "LayoutModel",
      "state": {
       "_model_module": "@jupyter-widgets/base",
       "_model_module_version": "2.0.0",
       "_model_name": "LayoutModel",
       "_view_count": null,
       "_view_module": "@jupyter-widgets/base",
       "_view_module_version": "2.0.0",
       "_view_name": "LayoutView",
       "align_content": null,
       "align_items": null,
       "align_self": null,
       "border_bottom": null,
       "border_left": null,
       "border_right": null,
       "border_top": null,
       "bottom": null,
       "display": null,
       "flex": null,
       "flex_flow": null,
       "grid_area": null,
       "grid_auto_columns": null,
       "grid_auto_flow": null,
       "grid_auto_rows": null,
       "grid_column": null,
       "grid_gap": null,
       "grid_row": null,
       "grid_template_areas": null,
       "grid_template_columns": null,
       "grid_template_rows": null,
       "height": null,
       "justify_content": null,
       "justify_items": null,
       "left": null,
       "margin": null,
       "max_height": null,
       "max_width": null,
       "min_height": null,
       "min_width": null,
       "object_fit": null,
       "object_position": null,
       "order": null,
       "overflow": null,
       "padding": null,
       "right": null,
       "top": null,
       "visibility": null,
       "width": null
      }
     },
     "28e6252cb2e142af867b234fdbcf1bf3": {
      "model_module": "@jupyter-widgets/base",
      "model_module_version": "2.0.0",
      "model_name": "LayoutModel",
      "state": {
       "_model_module": "@jupyter-widgets/base",
       "_model_module_version": "2.0.0",
       "_model_name": "LayoutModel",
       "_view_count": null,
       "_view_module": "@jupyter-widgets/base",
       "_view_module_version": "2.0.0",
       "_view_name": "LayoutView",
       "align_content": null,
       "align_items": null,
       "align_self": null,
       "border_bottom": null,
       "border_left": null,
       "border_right": null,
       "border_top": null,
       "bottom": null,
       "display": null,
       "flex": null,
       "flex_flow": null,
       "grid_area": null,
       "grid_auto_columns": null,
       "grid_auto_flow": null,
       "grid_auto_rows": null,
       "grid_column": null,
       "grid_gap": null,
       "grid_row": null,
       "grid_template_areas": null,
       "grid_template_columns": null,
       "grid_template_rows": null,
       "height": null,
       "justify_content": null,
       "justify_items": null,
       "left": null,
       "margin": null,
       "max_height": null,
       "max_width": null,
       "min_height": null,
       "min_width": null,
       "object_fit": null,
       "object_position": null,
       "order": null,
       "overflow": null,
       "padding": null,
       "right": null,
       "top": null,
       "visibility": null,
       "width": null
      }
     },
     "33fc94c9a4624f898ab4b42fa25e2406": {
      "model_module": "@jupyter-widgets/controls",
      "model_module_version": "2.0.0",
      "model_name": "HTMLModel",
      "state": {
       "_dom_classes": [],
       "_model_module": "@jupyter-widgets/controls",
       "_model_module_version": "2.0.0",
       "_model_name": "HTMLModel",
       "_view_count": null,
       "_view_module": "@jupyter-widgets/controls",
       "_view_module_version": "2.0.0",
       "_view_name": "HTMLView",
       "description": "",
       "description_allow_html": false,
       "layout": "IPY_MODEL_be85c03867154029a5ad47d53ba44b75",
       "placeholder": "​",
       "style": "IPY_MODEL_14afef3d15044424aed206c4b3a794c1",
       "tabbable": null,
       "tooltip": null,
       "value": "100%"
      }
     },
     "4347ac451d4541b182a9e8ea065b4b62": {
      "model_module": "@jupyter-widgets/controls",
      "model_module_version": "2.0.0",
      "model_name": "FloatProgressModel",
      "state": {
       "_dom_classes": [],
       "_model_module": "@jupyter-widgets/controls",
       "_model_module_version": "2.0.0",
       "_model_name": "FloatProgressModel",
       "_view_count": null,
       "_view_module": "@jupyter-widgets/controls",
       "_view_module_version": "2.0.0",
       "_view_name": "ProgressView",
       "bar_style": "success",
       "description": "",
       "description_allow_html": false,
       "layout": "IPY_MODEL_28e6252cb2e142af867b234fdbcf1bf3",
       "max": 20.0,
       "min": 0.0,
       "orientation": "horizontal",
       "style": "IPY_MODEL_aa93d09f4bb3438d8bce1ed9b2ee2692",
       "tabbable": null,
       "tooltip": null,
       "value": 20.0
      }
     },
     "457378a9cbe34f1cac87b8774964e633": {
      "model_module": "@jupyter-widgets/base",
      "model_module_version": "2.0.0",
      "model_name": "LayoutModel",
      "state": {
       "_model_module": "@jupyter-widgets/base",
       "_model_module_version": "2.0.0",
       "_model_name": "LayoutModel",
       "_view_count": null,
       "_view_module": "@jupyter-widgets/base",
       "_view_module_version": "2.0.0",
       "_view_name": "LayoutView",
       "align_content": null,
       "align_items": null,
       "align_self": null,
       "border_bottom": null,
       "border_left": null,
       "border_right": null,
       "border_top": null,
       "bottom": null,
       "display": null,
       "flex": null,
       "flex_flow": null,
       "grid_area": null,
       "grid_auto_columns": null,
       "grid_auto_flow": null,
       "grid_auto_rows": null,
       "grid_column": null,
       "grid_gap": null,
       "grid_row": null,
       "grid_template_areas": null,
       "grid_template_columns": null,
       "grid_template_rows": null,
       "height": null,
       "justify_content": null,
       "justify_items": null,
       "left": null,
       "margin": null,
       "max_height": null,
       "max_width": null,
       "min_height": null,
       "min_width": null,
       "object_fit": null,
       "object_position": null,
       "order": null,
       "overflow": null,
       "padding": null,
       "right": null,
       "top": null,
       "visibility": null,
       "width": null
      }
     },
     "5b0e83d34c1645ba967a1891450788de": {
      "model_module": "@jupyter-widgets/controls",
      "model_module_version": "2.0.0",
      "model_name": "HTMLModel",
      "state": {
       "_dom_classes": [],
       "_model_module": "@jupyter-widgets/controls",
       "_model_module_version": "2.0.0",
       "_model_name": "HTMLModel",
       "_view_count": null,
       "_view_module": "@jupyter-widgets/controls",
       "_view_module_version": "2.0.0",
       "_view_name": "HTMLView",
       "description": "",
       "description_allow_html": false,
       "layout": "IPY_MODEL_27f455a880a94ba2a1d94b1df6e47cf4",
       "placeholder": "​",
       "style": "IPY_MODEL_0c802da513944b08a98f43bf050cf9ed",
       "tabbable": null,
       "tooltip": null,
       "value": " 20/20 [00:36&lt;00:00,  2.83s/it]"
      }
     },
     "aa93d09f4bb3438d8bce1ed9b2ee2692": {
      "model_module": "@jupyter-widgets/controls",
      "model_module_version": "2.0.0",
      "model_name": "ProgressStyleModel",
      "state": {
       "_model_module": "@jupyter-widgets/controls",
       "_model_module_version": "2.0.0",
       "_model_name": "ProgressStyleModel",
       "_view_count": null,
       "_view_module": "@jupyter-widgets/base",
       "_view_module_version": "2.0.0",
       "_view_name": "StyleView",
       "bar_color": null,
       "description_width": ""
      }
     },
     "be85c03867154029a5ad47d53ba44b75": {
      "model_module": "@jupyter-widgets/base",
      "model_module_version": "2.0.0",
      "model_name": "LayoutModel",
      "state": {
       "_model_module": "@jupyter-widgets/base",
       "_model_module_version": "2.0.0",
       "_model_name": "LayoutModel",
       "_view_count": null,
       "_view_module": "@jupyter-widgets/base",
       "_view_module_version": "2.0.0",
       "_view_name": "LayoutView",
       "align_content": null,
       "align_items": null,
       "align_self": null,
       "border_bottom": null,
       "border_left": null,
       "border_right": null,
       "border_top": null,
       "bottom": null,
       "display": null,
       "flex": null,
       "flex_flow": null,
       "grid_area": null,
       "grid_auto_columns": null,
       "grid_auto_flow": null,
       "grid_auto_rows": null,
       "grid_column": null,
       "grid_gap": null,
       "grid_row": null,
       "grid_template_areas": null,
       "grid_template_columns": null,
       "grid_template_rows": null,
       "height": null,
       "justify_content": null,
       "justify_items": null,
       "left": null,
       "margin": null,
       "max_height": null,
       "max_width": null,
       "min_height": null,
       "min_width": null,
       "object_fit": null,
       "object_position": null,
       "order": null,
       "overflow": null,
       "padding": null,
       "right": null,
       "top": null,
       "visibility": null,
       "width": null
      }
     },
     "f478bf4adb504228881beb7103432245": {
      "model_module": "@jupyter-widgets/controls",
      "model_module_version": "2.0.0",
      "model_name": "HBoxModel",
      "state": {
       "_dom_classes": [],
       "_model_module": "@jupyter-widgets/controls",
       "_model_module_version": "2.0.0",
       "_model_name": "HBoxModel",
       "_view_count": null,
       "_view_module": "@jupyter-widgets/controls",
       "_view_module_version": "2.0.0",
       "_view_name": "HBoxView",
       "box_style": "",
       "children": [
        "IPY_MODEL_33fc94c9a4624f898ab4b42fa25e2406",
        "IPY_MODEL_4347ac451d4541b182a9e8ea065b4b62",
        "IPY_MODEL_5b0e83d34c1645ba967a1891450788de"
       ],
       "layout": "IPY_MODEL_457378a9cbe34f1cac87b8774964e633",
       "tabbable": null,
       "tooltip": null
      }
     }
    },
    "version_major": 2,
    "version_minor": 0
   }
  }
 },
 "nbformat": 4,
 "nbformat_minor": 5
}
